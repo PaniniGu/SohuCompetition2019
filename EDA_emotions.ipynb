{
 "cells": [
  {
   "cell_type": "code",
   "execution_count": 1,
   "metadata": {},
   "outputs": [],
   "source": [
    "import re\n",
    "import json\n",
    "import matplotlib.pyplot as plt\n",
    "import codecs\n",
    "import numpy as np\n",
    "import jieba\n",
    "\n",
    "def load_train_data(train_file):\n",
    "    news_id = set()\n",
    "    emotions_dict = {'POS':0, 'NEG':0, 'NORM':0}\n",
    "    emotion = []\n",
    "    with open(train_file, 'r', encoding='utf-8') as f:\n",
    "        for line in f:\n",
    "            data = json.loads(line)\n",
    "            entities = data['coreEntityEmotions']\n",
    "            emo_tmp = []\n",
    "            for a in entities:\n",
    "                if a['emotion'] == 'POS':\n",
    "                    emotions_dict['POS'] += 1\n",
    "                elif a['emotion'] == 'NEG':\n",
    "                    emotions_dict['NEG'] += 1\n",
    "                else:\n",
    "                    emotions_dict['NORM'] += 1\n",
    "                \n",
    "                emo_tmp.append(a['emotion'])\n",
    "            emotion.append(emo_tmp)\n",
    "            \n",
    "    print(\"emotions_dict:{}\".format(emotions_dict))\n",
    "\n",
    "    return emotions_dict, emotion"
   ]
  },
  {
   "cell_type": "code",
   "execution_count": 2,
   "metadata": {},
   "outputs": [
    {
     "name": "stdout",
     "output_type": "stream",
     "text": [
      "emotions_dict:{'POS': 43171, 'NEG': 11029, 'NORM': 33137}\n",
      "40000\n"
     ]
    }
   ],
   "source": [
    "basedir = '../input_data'\n",
    "train_file = basedir + '/coreEntityEmotion_train.txt' \n",
    "test_file = basedir + '/coreEntityEmotion_test_stage1.txt'\n",
    "ner_file = basedir + '/nerDict.txt'\n",
    "stop_words_file = basedir + '/stop_words_mine.txt'\n",
    "\n",
    "emotions_dict, emotion = load_train_data(train_file)\n",
    "print(len(emotion))"
   ]
  },
  {
   "cell_type": "code",
   "execution_count": 3,
   "metadata": {},
   "outputs": [
    {
     "name": "stdout",
     "output_type": "stream",
     "text": [
      "['POS', 'POS', 'POS']\n",
      "['POS', 'POS', 'POS']\n",
      "['POS', 'NEG', 'POS']\n",
      "['NORM', 'NORM', 'NORM']\n",
      "['POS', 'POS', 'POS']\n",
      "['NORM', 'NORM', 'NORM']\n",
      "['NORM', 'NORM', 'NORM']\n",
      "['NORM', 'NORM', 'NORM']\n",
      "['POS', 'NORM', 'NORM']\n",
      "['NORM', 'NORM', 'POS']\n"
     ]
    }
   ],
   "source": [
    "for i in range(10):\n",
    "    print(emotion[i])"
   ]
  },
  {
   "cell_type": "code",
   "execution_count": 7,
   "metadata": {},
   "outputs": [
    {
     "name": "stdout",
     "output_type": "stream",
     "text": [
      "min:1\n",
      "max:8\n",
      "mean:2.183425\n",
      "median:2.0\n",
      "mode:3\n",
      "std:0.789544342880753\n"
     ]
    },
    {
     "data": {
      "text/plain": [
       "(array([9.3060e+03, 1.4170e+04, 1.6438e+04, 0.0000e+00, 6.3000e+01,\n",
       "        1.6000e+01, 0.0000e+00, 5.0000e+00, 1.0000e+00, 1.0000e+00]),\n",
       " array([1. , 1.7, 2.4, 3.1, 3.8, 4.5, 5.2, 5.9, 6.6, 7.3, 8. ]),\n",
       " <a list of 10 Patch objects>)"
      ]
     },
     "execution_count": 7,
     "metadata": {},
     "output_type": "execute_result"
    },
    {
     "data": {
      "image/png": "[encoded data removed]",
      "text/plain": [
       "<Figure size 432x288 with 1 Axes>"
      ]
     },
     "metadata": {
      "needs_background": "light"
     },
     "output_type": "display_data"
    }
   ],
   "source": [
    "emotion_len = [len(i) for i in emotion]\n",
    "\n",
    "print(\"min:{}\".format(np.min(emotion_len)))\n",
    "print(\"max:{}\".format(np.max(emotion_len)))\n",
    "print(\"mean:{}\".format(np.mean(emotion_len)))\n",
    "print(\"median:{}\".format(np.median(emotion_len)))\n",
    "print(\"mode:{}\".format(np.argmax(np.bincount(emotion_len))))\n",
    "print(\"std:{}\".format(np.std(emotion_len)))\n",
    "plt.hist(emotion_len, bins=10)"
   ]
  },
  {
   "cell_type": "code",
   "execution_count": null,
   "metadata": {},
   "outputs": [],
   "source": []
  }
 ],
 "metadata": {
  "kernelspec": {
   "display_name": "Python 3",
   "language": "python",
   "name": "python3"
  },
  "language_info": {
   "codemirror_mode": {
    "name": "ipython",
    "version": 3
   },
   "file_extension": ".py",
   "mimetype": "text/x-python",
   "name": "python",
   "nbconvert_exporter": "python",
   "pygments_lexer": "ipython3",
   "version": "3.6.5"
  }
 },
 "nbformat": 4,
 "nbformat_minor": 2
}
