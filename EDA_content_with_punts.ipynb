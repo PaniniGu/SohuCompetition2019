{
 "cells": [
  {
   "cell_type": "code",
   "execution_count": 1,
   "metadata": {},
   "outputs": [],
   "source": [
    "import re\n",
    "import json\n",
    "import matplotlib.pyplot as plt\n",
    "import codecs\n",
    "import numpy as np\n",
    "import jieba\n",
    "\n",
    "puncts = [',', '.', '\"', ':', ')', '(', '-', '!', '?', '|', ';', \"'\", '$', '&', '/', '[', ']', '>', '%', '=', '#', '*', '+', '\\\\', '•',  '~', '@', '£', \n",
    "    '·', '_', '{', '}', '©', '^', '®', '`',  '<', '→', '°', '€', '™', '›',  '♥', '←', '×', '§', '″', '′', 'Â', '█', '½', 'à', '…', \n",
    "    '“', '★', '”', '–', '●', 'â', '►', '−', '¢', '²', '¬', '░', '¶', '↑', '±', '¿', '▾', '═', '¦', '║', '―', '¥', '▓', '—', '‹', '─', \n",
    "    '▒', '：', '¼', '⊕', '▼', '▪', '†', '■', '’', '▀', '¨', '▄', '♫', '☆', 'é', '¯', '♦', '¤', '▲', 'è', '¸', '¾', 'Ã', '⋅', '‘', '∞', \n",
    "    '∙', '）', '↓', '、', '│', '（', '»', '，', '♪', '╩', '╚', '³', '・', '╦', '╣', '╔', '╗', '▬', '❤', 'ï', 'Ø', '¹', '≤', '‡', '√', ]\n",
    "\n",
    "def load_nerDict(fname):\n",
    "    nerDict, cnt = [], 0\n",
    "    with open(fname, 'r', encoding='utf-8') as f:\n",
    "        for line in f:\n",
    "            if line.strip():\n",
    "                cnt += 1\n",
    "                # print(line)\n",
    "                nerDict.append(line.strip())\n",
    "            # if cnt == 2:\n",
    "            #     break\n",
    "    print(cnt)\n",
    "    return nerDict\n",
    "\n",
    "def get_new_ner(fname):\n",
    "    ner = set()\n",
    "    with open(fname, 'r', encoding='utf-8') as f:\n",
    "        for line in f:\n",
    "            data = json.loads(line)\n",
    "            entities = data['coreEntityEmotions']\n",
    "            for a in entities:\n",
    "                if len(a['entity']) < 9:\n",
    "                    ner.add(a['entity'])\n",
    "    return ner\n",
    "\n",
    "def clean_text(text):\n",
    "    for p in puncts:\n",
    "        text = text.replace(p, ' ')\n",
    "    return text\n",
    "\n",
    "def load_train_data(train_file, ner_file):\n",
    "    \n",
    "    ner = get_new_ner(train_file)\n",
    "    nerDict = load_nerDict(ner_file)\n",
    "    \n",
    "    for i in ner:\n",
    "        if i not in nerDict:\n",
    "            nerDict.append(i)\n",
    "#     print(len(nerDict))\n",
    "    \n",
    "    #更新jieba的词库\n",
    "    word_invalid = []\n",
    "    for i in nerDict:\n",
    "        try:\n",
    "            jieba.add_word(i)\n",
    "        except:\n",
    "            word_invalid.append(i)\n",
    "    \n",
    "    content_word = []\n",
    "    with open(train_file, 'r', encoding='utf-8') as f:\n",
    "        for line in f:\n",
    "            data = json.loads(line)\n",
    "            text = clean_text(data['content'].strip())\n",
    "            content = jieba.lcut(text)\n",
    "            content = [ i.strip() for i in content]\n",
    "            content_word.append(content)\n",
    "\n",
    "    return nerDict, content_word, word_invalid"
   ]
  },
  {
   "cell_type": "code",
   "execution_count": 2,
   "metadata": {},
   "outputs": [
    {
     "name": "stdout",
     "output_type": "stream",
     "text": [
      "311284\n"
     ]
    },
    {
     "name": "stderr",
     "output_type": "stream",
     "text": [
      "Building prefix dict from the default dictionary ...\n",
      "Loading model from cache C:\\Users\\iwin\\AppData\\Local\\Temp\\jieba.cache\n",
      "Loading model cost 0.849 seconds.\n",
      "Prefix dict has been built succesfully.\n"
     ]
    },
    {
     "name": "stdout",
     "output_type": "stream",
     "text": [
      "321016\n",
      "40000\n",
      "0\n"
     ]
    }
   ],
   "source": [
    "basedir = '../input_data'\n",
    "train_file = basedir + '/coreEntityEmotion_train.txt' \n",
    "test_file = basedir + '/coreEntityEmotion_test_stage1.txt'\n",
    "ner_file = basedir + '/nerDict.txt'\n",
    "stop_words_file = basedir + '/stop_words_mine.txt'\n",
    "\n",
    "nerDict, content_word, word_invalid = load_train_data(train_file, ner_file)\n",
    "print(len(nerDict))\n",
    "print(len(content_word))\n",
    "print(len(word_invalid))"
   ]
  },
  {
   "cell_type": "code",
   "execution_count": 4,
   "metadata": {},
   "outputs": [
    {
     "name": "stdout",
     "output_type": "stream",
     "text": [
      "['第十七届', '上海', '国际', '工业自动化', '及', '机器人', '展与', '上海', '智能工厂', '展览会', '于', '2019', '年', '3', '月', '1', '日', '圆满', '落下', '帷幕', '。', '展会', '展出', '规模', '907', '62', '平方米', '', '国内外', '参展', '厂商', '达', '1000', '多家', '', '并', '吸引', '超过', '100000', '名', '专业', '观众', '前来', '参观', '。', '此次', '展会', '全面', '展示', '了', '工业自动化', '技术', '', '工业', '装配', '与', '传输技术', '', '工业机器人', '整机', '与', '零部件', '', '机器视觉', '工业', '应用', '', 'agv', '无人', '搬运', '', '智慧工厂', '解决方案', '', '工业自动化', '全面', '解决方案', '等', '产品', '领域', '。', '无论是', '展会', '规模', '', '展示', '范围', '以及', '专业', '观众', '的', '人数', '', '都', '实现', '了', '快速', '的', '增长', '', '极大', '地', '推动', '了', '我国', '制造业', '的', '转型', '升级', '和', '跨越', '发展', '！', '誉洋', '3d', '机器视觉', '引', '发展', '会', '参观', '热潮', '在', '大连', '誉洋', '工业', '智能', '的', '展位', '', '机器人', '自动', '抓取', '物件', '让', '人', '眼前一亮', '。', '机器人', '在', '3d视觉', '的', '引导', '下', '精准定位', '杂乱无序', '的', '目标', '', '并', '实现', '准确', '快速', '抓取', '', '整个', '过程', '井然有序', '', '无需', '任何', '人工干预', '。', '誉洋', '现场', '工程师', '介绍', '', '制造', '企业', '采用', '誉洋', 'k', 'in', 'eye', '', '3d', '机器视觉', '系统', '', '以往', '繁琐', '', '枯燥', '的', '物料', '搬运', '工作', '交给', '了', '机器人', '', '这样', '不但', '解放了', '人力', '', '还', '提升', '了', '物流', '效率', '。', '这套', '3d', '机器视觉', '已', '在', '国内', '多家', '知名企业', '成功', '实施', '应用', '', '得到', '了', '一致', '认可', '与', '好评', '。', 'k', 'in', 'eye', '', '3d', '机器视觉', '实现', '企业', '智能制造', '誉洋', '工业', '智能', '有限公司', '自', '成立', '以来', '', '一直', '专注', '于', '工业', '智能设备', '的', '研发', '', '生产', '制造', '和', '服务', '', '创新', '理念', '伴随', '企业', '不断', '成长', '。', '今天', '的', '誉洋', '已', '与', '中国', '多家', '企业', '达成', '合作伙伴', '关系', '', '成为', '中国', '领先', '的', '智能设备', '供应商', '之一', '。', '以', '前瞻', '思维', '引领', '企业', '创新', '步伐', '', '针对', '制造', '企业', '面临', '改革', '升级', '的', '痛点', '问题', '', '誉洋', '与', '欧洲', '科研机构', '联合', '研发', '的', 'k', 'in', 'eye', '', '3d', '机器视觉', '系统', '', '拥有', '比肩', '世界', '的', '技术水准', '', '可', '实现', '对', '制造业', '生产线', '的', '智能化', '改造', '。', '不仅如此', '', '誉洋', '还', '可以', '提供', '柔性', '生产', '系统', '', '智能仓储', '', '智能制造', '设备', '等', '整套', '智能硬件', '', '软件', '和', '一站式', '解决方案', '。']\n",
      "min:3\n",
      "max:10879\n",
      "mean:733.283425\n",
      "median:540.0\n",
      "std:657.704882485503\n"
     ]
    },
    {
     "data": {
      "text/plain": [
       "(array([  3.,   3.,   3.,  15.,  85., 163., 173., 229., 237., 271., 254.,\n",
       "        273., 250., 245., 252., 319., 311., 369., 386., 418., 496., 504.,\n",
       "        474., 475., 448., 518., 515., 551., 556., 545., 563., 566., 512.,\n",
       "        567., 580., 605., 572., 539., 539., 548., 480., 547., 515., 544.,\n",
       "        572., 561., 594., 567., 472., 537., 503., 471., 494., 440., 446.,\n",
       "        410., 394., 367., 399., 381., 361., 371., 307., 329., 311., 292.,\n",
       "        297., 263., 247., 286., 260., 247., 204., 250., 236., 200., 196.,\n",
       "        183., 191., 209., 172., 196., 170., 177., 176., 153., 169., 156.,\n",
       "        134., 139., 135., 157., 138., 141., 120., 126., 118., 130., 123.,\n",
       "        114., 104., 120., 133., 122., 116., 108., 124., 105., 102.,  90.,\n",
       "        102.,  94.,  88.,  83., 110.,  77.,  92.,  96.,  82.,  96.,  58.,\n",
       "         91.,  85.,  90.,  88., 107.,  75.,  72.,  66.,  56.,  72.,  66.,\n",
       "         73.,  67.,  73.,  70.,  53.,  54.,  78.,  60.,  66.,  46.,  51.,\n",
       "         53.,  46.,  54.,  51.,  50.,  48.,  60.,  34.,  55.,  47.,  51.,\n",
       "         43.,  40.,  38.,  41.,  31.,  35.,  30.,  40.,  29.,  38.,  42.,\n",
       "         42.,  33.,  36.,  50.,  29.,  42.,  41.,  36.,  28.,  36.,  27.,\n",
       "         29.,  29.,  30.,  21.,  28.,  25.,  16.,  23.,  27.,  22.,  36.,\n",
       "         28.,  27.,  26.,  26.,  33.,  15.,  15.,  23.,  30.,  24.,  21.,\n",
       "         24.,  22.,  23.,  25.,  14.,  17.,  26.,  25.,  17.,  18.,  19.,\n",
       "         21.,  21.,  18.,  21.,  27.,  19.,  13.,  14.,  15.,  14.,  17.,\n",
       "         14.,  17.,  13.,  15.,   9.,  11.,  14.,  10.,  17.,  12.,  11.,\n",
       "         14.,  12.,  10.,  12.,  17.,  17.,  16.,  11.,  15.,   5.,  12.,\n",
       "         13.,   8.,  10.,  11.,  11.,   7.,   9.,   7.,  18.,  10.,  11.,\n",
       "         13.,   9.,  13.,   7.,   6.,   6.,  10.,   7.,   6.,   5.,   6.,\n",
       "          8.,  14.,   7.,  12.,  10.,   4.,   9.,   2.,   5.,   7.,   3.,\n",
       "          8.,   4.,  10.,   7.,   6.,   6.,  10.,   4.,  10.,   7.,   5.,\n",
       "          8.,   6.,   6.,   3.,   6.,   6.,  10.,   9.,   5.,   2.,   3.,\n",
       "          3.,   7.,   5.,   3.,   5.,   4.,   4.,   3.,   5.,   5.,   7.,\n",
       "          6.,   7.,   5.,   4.,   4.,  10.,   3.,   7.,   5.,   7.,   3.,\n",
       "          3.,   3.,   6.,   3.,   7.,   1.,   4.,   1.,   1.,   5.,   5.,\n",
       "          3.,   3.,   7.,   2.,   6.,   3.,   1.,   0.,   3.,   1.,   1.,\n",
       "          5.,   2.,   3.,   5.,   7.,   7.,   3.,   1.,   1.,   5.,   5.,\n",
       "          6.,   8.,   6.,   3.,   3.,   6.,   1.,   5.,   2.,   3.,   5.,\n",
       "          0.,   1.,   6.,   1.,   2.,   1.,   1.,   2.,   2.,   1.,   1.,\n",
       "          4.,   0.,   3.,   5.,   1.,   0.,   0.,   2.,   4.,   0.,   1.,\n",
       "          1.,   1.,   2.,   6.,   1.,   1.,   1.,   3.,   2.,   0.,   0.,\n",
       "          1.,   3.,   1.,   1.,   3.,   3.,   0.,   2.,   2.,   0.,   2.,\n",
       "          0.,   1.,   2.,   2.,   5.,   2.,   0.,   4.,   2.,   0.,   1.,\n",
       "          1.,   1.,   3.,   0.,   1.,   1.,   1.,   2.,   2.,   1.,   0.,\n",
       "          0.,   2.,   1.,   2.,   0.,   0.,   3.,   1.,   1.,   0.,   1.,\n",
       "          0.,   2.,   0.,   2.,   0.,   4.,   1.,   0.,   2.,   0.,   1.,\n",
       "          0.,   0.,   1.,   2.,   0.,   1.,   2.,   2.,   0.,   2.,   1.,\n",
       "          0.,   0.,   0.,   0.,   1.,   0.,   2.,   0.,   1.,   1.,   0.,\n",
       "          1.,   0.,   0.,   1.,   1.,   1.,   1.,   2.,   0.,   2.,   0.,\n",
       "          0.,   1.,   0.,   3.,   0.,   0.,   1.,   1.,   0.,   0.,   1.,\n",
       "          1.,   0.,   1.,   0.,   1.,   1.,   0.,   1.,   0.,   0.,   0.,\n",
       "          1.,   0.,   0.,   1.,   1.,   0.,   3.,   0.,   0.,   3.,   1.,\n",
       "          0.,   0.,   0.,   0.,   0.,   0.,   1.,   0.,   1.,   0.,   0.,\n",
       "          0.,   1.,   0.,   0.,   1.,   0.,   0.,   1.,   0.,   0.,   0.,\n",
       "          0.,   0.,   1.,   0.,   0.,   0.,   0.,   1.,   0.,   0.,   0.,\n",
       "          1.,   1.,   2.,   0.,   0.,   0.,   0.,   0.,   0.,   1.,   0.,\n",
       "          0.,   0.,   0.,   0.,   0.,   0.,   0.,   0.,   1.,   1.,   0.,\n",
       "          0.,   1.,   1.,   0.,   0.,   0.,   0.,   0.,   0.,   1.,   0.,\n",
       "          0.,   0.,   0.,   0.,   2.,   0.,   0.,   0.,   0.,   1.,   0.,\n",
       "          1.,   0.,   1.,   0.,   0.,   0.,   0.,   0.,   0.,   1.,   0.,\n",
       "          0.,   0.,   0.,   0.,   0.,   0.,   0.,   0.,   0.,   0.,   0.,\n",
       "          0.,   0.,   0.,   0.,   0.,   0.,   0.,   0.,   0.,   0.,   0.,\n",
       "          0.,   0.,   0.,   0.,   0.,   0.,   0.,   0.,   0.,   0.,   0.,\n",
       "          0.,   0.,   0.,   0.,   0.,   0.,   0.,   0.,   0.,   0.,   0.,\n",
       "          0.,   0.,   0.,   0.,   0.,   0.,   0.,   0.,   0.,   0.,   0.,\n",
       "          1.,   0.,   0.,   0.,   0.,   0.,   0.,   0.,   0.,   0.,   1.,\n",
       "          0.,   0.,   1.,   0.,   0.,   0.,   0.,   0.,   0.,   0.,   0.,\n",
       "          0.,   0.,   0.,   0.,   0.,   0.,   0.,   0.,   0.,   0.,   0.,\n",
       "          0.,   0.,   0.,   1.,   0.,   0.,   0.,   0.,   0.,   0.,   0.,\n",
       "          0.,   0.,   0.,   0.,   0.,   0.,   0.,   0.,   0.,   1.,   0.,\n",
       "          0.,   0.,   0.,   0.,   0.,   0.,   0.,   0.,   0.,   0.,   0.,\n",
       "          0.,   0.,   0.,   0.,   0.,   0.,   0.,   0.,   0.,   0.,   0.,\n",
       "          0.,   0.,   0.,   0.,   0.,   0.,   0.,   0.,   0.,   0.,   0.,\n",
       "          0.,   0.,   0.,   0.,   0.,   0.,   0.,   0.,   0.,   0.,   0.,\n",
       "          0.,   0.,   0.,   0.,   0.,   0.,   0.,   0.,   0.,   0.,   0.,\n",
       "          0.,   0.,   0.,   0.,   0.,   0.,   0.,   0.,   0.,   0.,   0.,\n",
       "          0.,   0.,   0.,   0.,   0.,   0.,   0.,   0.,   0.,   0.,   0.,\n",
       "          0.,   0.,   0.,   0.,   0.,   0.,   0.,   0.,   0.,   0.,   0.,\n",
       "          0.,   0.,   0.,   0.,   0.,   0.,   0.,   0.,   0.,   0.,   0.,\n",
       "          0.,   0.,   0.,   1.,   0.,   0.,   0.,   0.,   0.,   0.,   0.,\n",
       "          0.,   0.,   0.,   0.,   0.,   0.,   0.,   0.,   0.,   0.,   0.,\n",
       "          0.,   0.,   0.,   0.,   0.,   0.,   0.,   0.,   0.,   0.,   0.,\n",
       "          0.,   0.,   0.,   0.,   0.,   0.,   0.,   0.,   0.,   0.,   0.,\n",
       "          0.,   0.,   0.,   0.,   0.,   0.,   0.,   0.,   0.,   0.,   0.,\n",
       "          0.,   0.,   0.,   0.,   0.,   0.,   0.,   0.,   0.,   0.,   0.,\n",
       "          0.,   0.,   0.,   0.,   0.,   0.,   0.,   0.,   0.,   0.,   0.,\n",
       "          0.,   0.,   0.,   0.,   0.,   0.,   0.,   0.,   0.,   0.,   0.,\n",
       "          0.,   0.,   0.,   0.,   0.,   0.,   0.,   0.,   0.,   0.,   0.,\n",
       "          0.,   0.,   0.,   0.,   0.,   0.,   0.,   0.,   0.,   0.,   1.,\n",
       "          0.,   0.,   0.,   0.,   0.,   0.,   0.,   0.,   0.,   0.,   0.,\n",
       "          0.,   0.,   0.,   0.,   0.,   0.,   0.,   0.,   0.,   0.,   0.,\n",
       "          0.,   0.,   0.,   0.,   0.,   0.,   0.,   0.,   0.,   0.,   0.,\n",
       "          0.,   0.,   0.,   0.,   0.,   0.,   0.,   0.,   0.,   0.,   0.,\n",
       "          0.,   0.,   0.,   0.,   0.,   0.,   0.,   0.,   0.,   0.,   0.,\n",
       "          0.,   0.,   0.,   0.,   0.,   0.,   0.,   0.,   0.,   0.,   0.,\n",
       "          0.,   0.,   0.,   0.,   0.,   0.,   0.,   0.,   0.,   1.]),\n",
       " array([3.0000000e+00, 1.3876000e+01, 2.4752000e+01, ..., 1.0857248e+04,\n",
       "        1.0868124e+04, 1.0879000e+04]),\n",
       " <a list of 1000 Patch objects>)"
      ]
     },
     "execution_count": 4,
     "metadata": {},
     "output_type": "execute_result"
    },
    {
     "data": {
      "image/png": "[encoded data removed]",
      "text/plain": [
       "<Figure size 432x288 with 1 Axes>"
      ]
     },
     "metadata": {
      "needs_background": "light"
     },
     "output_type": "display_data"
    }
   ],
   "source": [
    "print(content_word[0])\n",
    "\n",
    "content_word_len = [len(i) for i in content_word]\n",
    "\n",
    "print(\"min:{}\".format(np.min(content_word_len)))\n",
    "print(\"max:{}\".format(np.max(content_word_len)))\n",
    "print(\"mean:{}\".format(np.mean(content_word_len)))\n",
    "print(\"median:{}\".format(np.median(content_word_len)))\n",
    "print(\"std:{}\".format(np.std(content_word_len)))\n",
    "plt.hist(content_word_len, bins=1000)"
   ]
  },
  {
   "cell_type": "code",
   "execution_count": 7,
   "metadata": {},
   "outputs": [
    {
     "name": "stdout",
     "output_type": "stream",
     "text": [
      "40000\n"
     ]
    }
   ],
   "source": [
    "cnt = 0\n",
    "for i in content_word:\n",
    "    if len(content_word) > 10000:\n",
    "        cnt += 1\n",
    "print(cnt)"
   ]
  },
  {
   "cell_type": "code",
   "execution_count": null,
   "metadata": {},
   "outputs": [],
   "source": []
  }
 ],
 "metadata": {
  "kernelspec": {
   "display_name": "Python 3",
   "language": "python",
   "name": "python3"
  },
  "language_info": {
   "codemirror_mode": {
    "name": "ipython",
    "version": 3
   },
   "file_extension": ".py",
   "mimetype": "text/x-python",
   "name": "python",
   "nbconvert_exporter": "python",
   "pygments_lexer": "ipython3",
   "version": "3.6.5"
  }
 },
 "nbformat": 4,
 "nbformat_minor": 2
}
